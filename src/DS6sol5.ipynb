{
 "metadata": {
  "name": "",
  "signature": "sha256:d7b293dc437c449cf54c16f487dc31a4320df9547d30833acdb88fe7d8d710f6"
 },
 "nbformat": 3,
 "nbformat_minor": 0,
 "worksheets": [
  {
   "cells": [
    {
     "cell_type": "code",
     "collapsed": false,
     "input": [
      "def printnode(node):    \n",
      "    for i in node.findall(\".//leaf\"):        \n",
      "        print(\" \" + i.attrib['value']),    \n",
      "    print('') \n",
      "\n",
      "def placeOfBirth(node):    \n",
      "    aa = node.findall(\"./node[@value='NP']//node[@value='NNP']//leaf[@value='Obama']\")\n",
      "    bb = node.findall(\"./node[@value='VP']//node[@value='VP']//leaf[@value='born']\")\n",
      "    \n",
      "    if (len(aa) > 0 and len(bb) > 0): \n",
      "        print 'Place Of Birth info:::\\n'\n",
      "        printnode(node)\n",
      "        print '------------------\\n'\n",
      "        \n",
      "        \n",
      "def spouse(node):\n",
      "    aa = node.findall(\"./node[@value='NP']//leaf[@value='Obama']\")    \n",
      "    bb = node.findall(\"./node[@value='VP']//node[@value='VP']//leaf[@value='married']\")    \n",
      "    if (len(aa) > 0 and len(bb) > 0):\n",
      "        print 'Spouse Info:::\\n'\n",
      "        printnode(node)\n",
      "        print '------------------\\n'\n",
      "        \n",
      "def school(node):\n",
      "    aa = node.findall(\"./node[@value='NP']//leaf[@value='Education']\")    \n",
      "    bb = node.findall(\"./node[@value='VP']//node[@value='NP']//leaf[@value='college']\") \n",
      "    dd = node.findall(\"./node[@value='NP']//leaf[@value='Obama']\")\n",
      "    cc = node.findall(\"./node[@value='VP']//node[@value='PP']//leaf[@value='school']\")\n",
      "    if ((len(aa) > 0 and len(bb) > 0) or (len(dd) > 0 and len(cc) > 0)):        \n",
      "        print 'School Info:::\\n'\n",
      "        printnode(node)\n",
      "        print '-------------------\\n'\n",
      "    \n",
      "    \n",
      "def agentact(node):\n",
      "    snodes = node.findall(\".//node[@value='S']\")    \n",
      "    for snode in snodes: \n",
      "        placeOfBirth(snode)\n",
      "        spouse(snode)\n",
      "        school(snode)"
     ],
     "language": "python",
     "metadata": {},
     "outputs": [],
     "prompt_number": 103
    },
    {
     "cell_type": "code",
     "collapsed": false,
     "input": [
      "''' Parse xml documents and print data '''\n",
      "from lxml import etree \n",
      "parser = etree.XMLParser(recover=True)\n",
      "treeObama = etree.parse('/home/datascience/Desktop/Labs/lab06/sol5/BarackObama.xml',parser)\n",
      "rootObama=treeObama.getroot()"
     ],
     "language": "python",
     "metadata": {},
     "outputs": [],
     "prompt_number": 90
    },
    {
     "cell_type": "code",
     "collapsed": false,
     "input": [
      "map(lambda (nn): agentact(nn[0]), rootObama)\n",
      "[]"
     ],
     "language": "python",
     "metadata": {},
     "outputs": [
      {
       "output_type": "stream",
       "stream": "stdout",
       "text": [
        "Place Of Birth info:::\n",
        "\n",
        " Obama  was  born  on  August  4  ,  1961  in  Kapi  \\  u02bbolani  Medical  Center  for  Women  and  Children  -LRB-  called  Kapi  \\  u02bbolani  Maternity  &  Gynecological  Hospital  in  1961  -RRB-  in  Honolulu  ,  Hawaii  and  is  the  first  President  to  have  been  born  in  Hawaii  . \n",
        "------------------\n",
        "\n",
        "School Info:::\n",
        "\n",
        " Education  He  started  college  at  Occidental  College  in  Los  Angeles  ,  and  graduated  from  Columbia  University  in  New  York  City  . \n",
        "-------------------\n",
        "\n",
        "School Info:::\n"
       ]
      },
      {
       "output_type": "stream",
       "stream": "stdout",
       "text": [
        "\n",
        " After  taking  time  off  to  community  organize  ,  Obama  went  to  law  school  at  Harvard  University  . \n",
        "-------------------\n",
        "\n",
        "Spouse Info:::\n"
       ]
      },
      {
       "output_type": "stream",
       "stream": "stdout",
       "text": [
        "\n",
        " Obama  has  been  married  to  Michelle  Obama  since  1992  . \n",
        "------------------\n",
        "\n"
       ]
      },
      {
       "metadata": {},
       "output_type": "pyout",
       "prompt_number": 104,
       "text": [
        "[]"
       ]
      }
     ],
     "prompt_number": 104
    }
   ],
   "metadata": {}
  }
 ]
}