{
 "metadata": {
  "name": "",
  "signature": "sha256:91f8a5328770d81e8fe6ea8c7245959a6588967b58741818a79a1f5160e37a1b"
 },
 "nbformat": 3,
 "nbformat_minor": 0,
 "worksheets": [
  {
   "cells": [
    {
     "cell_type": "code",
     "collapsed": false,
     "input": [
      "'''Save and print functions'''\n",
      "import json\n",
      "\n",
      "def pretty(jdata):    \n",
      "    str = json.dumps(jdata, sort_keys=True, indent=4).decode('string_escape')    \n",
      "    return str\n",
      "\n",
      "def saveas(sdata, fname):    \n",
      "    f = open(fname,'w')    \n",
      "    f.write(sdata)\n",
      "    f.close()"
     ],
     "language": "python",
     "metadata": {},
     "outputs": [],
     "prompt_number": 1
    },
    {
     "cell_type": "code",
     "collapsed": false,
     "input": [
      "''' Getting json data for Jim Parsons and Barack Obama'''\n",
      "import requests\n",
      "\n",
      "titleJim='Jim Parsons'\n",
      "titleObama='Barack Obama'\n",
      "responseJim = requests.get(\"http://simple.wikipedia.org/w/api.php?format=json&action=query&titles=\"+str(titleJim)+\"&prop=revisions&rvprop=content\")\n",
      "responseObama = requests.get(\"http://simple.wikipedia.org/w/api.php?format=json&action=query&titles=\"+str(titleObama)+\"&prop=revisions&rvprop=content\")\n",
      "jsondataJim = responseJim.json()\n",
      "jsondataObama = responseObama.json()\n",
      "saveas(pretty(jsondataJim), '/home/datascience/Desktop/Labs/lab06/sol4/'+titleJim+'.json')\n",
      "saveas(pretty(jsondataObama), '/home/datascience/Desktop/Labs/lab06/sol4/'+titleObama+'.json')"
     ],
     "language": "python",
     "metadata": {},
     "outputs": [],
     "prompt_number": 2
    },
    {
     "cell_type": "code",
     "collapsed": false,
     "input": [
      "''' Saving data extracted from json files to text files '''\n",
      "import mwparserfromhell as mwph \n",
      "contentJim = jsondataJim['query']['pages'].values()[0]['revisions'][0]\n",
      "contentJim = contentJim.get('*')\n",
      "wikicodeJim = mwph.parse(contentJim)\n",
      "textJim = wikicodeJim.strip_code()\n",
      "saveas(pretty(textJim), '/home/datascience/Desktop/Labs/lab06/sol4/'+titleJim+'.txt')\n",
      "\n",
      "contentObama = jsondataObama['query']['pages'].values()[0]['revisions'][0]\n",
      "contentObama = contentObama.get('*')\n",
      "wikicodeObama = mwph.parse(contentObama)\n",
      "textObama = wikicodeObama.strip_code()\n",
      "saveas(pretty(textObama), '/home/datascience/Desktop/Labs/lab06/sol4/'+titleObama+'.txt')"
     ],
     "language": "python",
     "metadata": {},
     "outputs": [],
     "prompt_number": 3
    },
    {
     "cell_type": "code",
     "collapsed": false,
     "input": [
      "''' Convert it to xml using command line script 'parsetoxml.sh' created during the lab'''"
     ],
     "language": "python",
     "metadata": {},
     "outputs": []
    },
    {
     "cell_type": "code",
     "collapsed": false,
     "input": [
      "''' Functions used to parse xml documents'''\n",
      "def printnode(node):    \n",
      "    for i in node.findall(\".//leaf\"):        \n",
      "        print(\" \" + i.attrib['value']),    \n",
      "    print('') \n",
      "\n",
      "def getIsFacts(node, agent, action):    \n",
      "    aa = node.findall(\"./node[@value='NP']//node[@value='NNP']//leaf[@value='\"+agent+\"']\")    \n",
      "    bb = node.findall(\"./node[@value='VP']//leaf[@value='\"+action+\"']\")    \n",
      "    if (len(aa) > 0 and len(bb) > 0):        \n",
      "        printnode(node)\n",
      "        \n",
      "def agentact(node, agent, action):    \n",
      "    getIsFacts(node, agent, action)\n",
      "    snodes = node.findall(\".//node[@value='S']\")    \n",
      "    for snode in snodes:        \n",
      "        getIsFacts(snode, agent, action)"
     ],
     "language": "python",
     "metadata": {},
     "outputs": [],
     "prompt_number": 23
    },
    {
     "cell_type": "code",
     "collapsed": false,
     "input": [
      "''' Parse xml documents and print data '''\n",
      "from lxml import etree \n",
      "parser = etree.XMLParser(recover=True)\n",
      "treeJim = etree.parse('/home/datascience/Desktop/Labs/lab06/sol4/JimParsons.xml',parser)\n",
      "rootJim=treeJim.getroot()\n",
      "treeObama = etree.parse('/home/datascience/Desktop/Labs/lab06/sol4/Obama.xml',parser)\n",
      "rootObama=treeObama.getroot()"
     ],
     "language": "python",
     "metadata": {},
     "outputs": [],
     "prompt_number": 5
    },
    {
     "cell_type": "code",
     "collapsed": false,
     "input": [
      "print 'JIM PARSONS FACTS:\\n'\n",
      "map(lambda (nn): agentact(nn[0][0][0], 'Jim', 'was'), rootJim)\n",
      "map(lambda (nn): agentact(nn[0][0][0], 'Jim', 'is'), rootJim)\n",
      "map(lambda (nn): agentact(nn[0][0][0], 'Parsons', 'is'), rootJim)\n",
      "map(lambda (nn): agentact(nn[0][0][0], 'Parsons', 'was'), rootJim)\n",
      "print '\\n--------------------------\\n'\n",
      "print 'BARACK OBAMA FACTS:\\n'\n",
      "map(lambda (nn): agentact(nn[0][0][0], 'Obama', 'was'), rootObama)\n",
      "map(lambda (nn): agentact(nn[0][0][0], 'Obama', 'is'), rootObama)\n",
      "[]"
     ],
     "language": "python",
     "metadata": {},
     "outputs": [
      {
       "output_type": "stream",
       "stream": "stdout",
       "text": [
        "JIM PARSONS FACTS:\n",
        "\n",
        " Early  life  Jim  Parsons  was  born  at  St.  Joseph  Hospital  in  Houston  ,  Texas  ,  and  was  raised  in  one  of  its  northern  suburbs  ,  Spring  . \n",
        " ``"
       ]
      },
      {
       "output_type": "stream",
       "stream": "stdout",
       "text": [
        "  James  Joseph  ``  Jim  ''  Parsons  -LRB-  born  March  24  ,  1973  -RRB-  is  an  American  actor  . \n",
        " Jim  is  a  very  specific  personality \n",
        " ``"
       ]
      },
      {
       "output_type": "stream",
       "stream": "stdout",
       "text": [
        "  James  Joseph  ``  Jim  ''  Parsons  -LRB-  born  March  24  ,  1973  -RRB-  is  an  American  actor  . \n",
        " His  sister  Julie  Ann  Parsons  is  also  a  teacher  . \n",
        " Parsons"
       ]
      },
      {
       "output_type": "stream",
       "stream": "stdout",
       "text": [
        "  admits  that  the  work  is  ``  more  effort  than  I  ever  thought  a  sitcom  would  take  . \n",
        " Parsons  is  gay \n",
        " Early  life  Jim  Parsons  was  born  at  St.  Joseph  Hospital  in  Houston  ,  Texas  ,  and  was  raised  in  one  of  its  northern  suburbs  ,  Spring  . \n",
        " Parsons  points  to  a  role  in  Noises  Off  during  his  junior  year  as  the  first  time  ``  I  fully  connected  with  the  role  I  was  playing  and  started  to  truly  understand  what  it  meant  to  be  honest  on  stage  .  '' \n",
        " After  playing  the  role  of  the  Kola-Kola  bird  in  a  school  production  of  The  Elephant  's  Child  at  age  six  ,  Parsons  was  determined  to  become  an  actor  . \n",
        " The  young  Parsons  was  heavily  influenced  by  sitcoms  ,  particularly  Three  's  Company  ,  Family  Ties  ,  and  The  Cosby  Show  . \n",
        " Parsons"
       ]
      },
      {
       "output_type": "stream",
       "stream": "stdout",
       "text": [
        "  was  cast  as  Sheldon  Cooper  ,  a  physicist  with  social  apathy  who  frequently  belittles  his  friends  and  the  waitress  who  lives  across  the  hall  . \n",
        " Parsons  was  nominated  for  Primetime  Emmy  Awards  in  2009  ,  2010  ,  2011  ,  2012  ,  2013  and  2014  for  Outstanding  Lead  Actor  in  a  Comedy  Series  ,  winning  in  2010  ,  2011  ,  2013  and  2014  . \n",
        "\n",
        "--------------------------\n"
       ]
      },
      {
       "output_type": "stream",
       "stream": "stdout",
       "text": [
        "\n",
        "BARACK OBAMA FACTS:\n",
        "\n",
        " Born  in  Honolulu  ,  Hawaii  ,  Obama  is  a  graduate  of  Columbia  University  and  Harvard  Law  School  ,  where  he  was  president  of  the  Harvard  Law  Review  . \n",
        " Nine  months  after  his  inauguration  ,  Obama  was  controversially  named  the  2009  Nobel  Peace  Prize  laureate  . \n",
        " Obama  was  reelected  president  in  November  2012  ,  defeating  Republican  nominee  Mitt  Romney  ,  and  was  sworn  in  for  a  second  term  on  January  20  ,  2013  . \n",
        " His  father  ,  Barack  Obama  Sr.  ,  was  a  Luo  from  Nyang  `  oma  Kogelo  ,  Kenya  . \n",
        " Obama  's  parents  met  in  1960  in  a  Russian  language  class  at  the  University  of  Hawaii  at  Manoa  ,  where  his  father  was  a  foreign  student  on  scholarship.Obama  -LRB-  1995  ,  2004  -RRB-  ,  pp.  9  \\  u201310  . \n",
        " Obama"
       ]
      },
      {
       "output_type": "stream",
       "stream": "stdout",
       "text": [
        "  lived  with  his  mother  and  sister  in  Hawaii  for  three  years  from  1972  to  1975  while  his  mother  was  a  graduate  student  in  anthropology  at  the  University  of  Hawaii.Scott  -LRB-  2011  -RRB-  ,  pp.  139  \\  u2013157  . \n",
        " Obama  has  also  written  and  talked  about  using  alcohol  ,  marijuana  ,  and  cocaine  during  his  teenage  years  to  ``  push  questions  of  who  I  was  out  of  my  mind  ''  . \n",
        " Obama  was  also  a  member  of  the  ``  choom  gang  ''  ,  a  self-named  group  of  friends  that  spent  time  together  and  occasionally  smoked  marijuana  . \n",
        " Born  in  Honolulu  ,  Hawaii  ,  Obama  is  a  graduate  of  Columbia  University  and  Harvard  Law  School  ,  where  he  was  president  of  the  Harvard  Law  Review  . \n"
       ]
      },
      {
       "metadata": {},
       "output_type": "pyout",
       "prompt_number": 37,
       "text": [
        "[]"
       ]
      }
     ],
     "prompt_number": 37
    }
   ],
   "metadata": {}
  }
 ]
}