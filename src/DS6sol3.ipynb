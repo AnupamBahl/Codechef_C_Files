{
 "metadata": {
  "name": "",
  "signature": "sha256:535d62a7a1af270cdf5553c48d58b54f31ae1c1da44429828c7fd3d0f011994e"
 },
 "nbformat": 3,
 "nbformat_minor": 0,
 "worksheets": [
  {
   "cells": [
    {
     "cell_type": "code",
     "collapsed": false,
     "input": [
      "def printnode(node):    \n",
      "    for i in node.findall(\".//leaf\"):        \n",
      "        print(\" \" + i.attrib['value']),    \n",
      "    print('') \n",
      "\n",
      "def testnode2(node, agent, action):\n",
      "    aa = node.findall(\"./node[@value='NP']//node[@value='NNS']//leaf[@value='\"+agent+\"']\")    \n",
      "    bb = node.findall(\"./node[@value='VP']//leaf[@value='\"+action+\"']\")\n",
      "    if (len(aa) > 0 and len(bb) > 0):        \n",
      "        printnode(node)"
     ],
     "language": "python",
     "metadata": {},
     "outputs": [],
     "prompt_number": 1
    },
    {
     "cell_type": "code",
     "collapsed": false,
     "input": [
      "from lxml import etree \n",
      "parser = etree.XMLParser(recover=True)\n",
      "tree = etree.parse('/home/datascience/Desktop/Labs/lab06/sol3/cat.xml',parser)\n",
      "root=tree.getroot()"
     ],
     "language": "python",
     "metadata": {},
     "outputs": [],
     "prompt_number": 2
    },
    {
     "cell_type": "code",
     "collapsed": false,
     "input": [
      "title = 'cats'\n",
      "def agentact2(node, agent, action):\n",
      "    testnode2(node, agent, action)\n",
      "    snodes = node.findall(\".//node[@value='S']\")\n",
      "    for snode in snodes:\n",
      "        testnode2(snode, agent, action)\n",
      "\n",
      "map(lambda (nn): agentact2(nn[0][0][0], title, 'are'), root)\n",
      "[]"
     ],
     "language": "python",
     "metadata": {},
     "outputs": [
      {
       "output_type": "stream",
       "stream": "stdout",
       "text": [
        " Domestic  cats  are  found  in  shorthair  and  longhair  breeds  . \n",
        " The  big  cats  are  well  known  :  lions  ,  tigers  ,  leopards  ,  jaguars  ,  pumas  ,  and  cheetahs  . \n",
        " The  big  cats  and  wild  cats  are  not  tame  ,  and  can  be  very  dangerous  . \n",
        " These  kinds  of  cats  are  called  ``  feral  cats  ''  . \n",
        " While  dogs  have  great  stamina  and  will  chase  prey  over  long  distances  ,  cats  are  extremely  fast  ,  but  only  over  short  distances  . \n",
        " People"
       ]
      },
      {
       "output_type": "stream",
       "stream": "stdout",
       "text": [
        "  who  receive  cats  as  gifts  are  recommended  to  get  it  examined  for  its  health  . \n",
        " All  of  these  cats  are  called  polydactyl  cats  . \n"
       ]
      },
      {
       "metadata": {},
       "output_type": "pyout",
       "prompt_number": 4,
       "text": [
        "[]"
       ]
      }
     ],
     "prompt_number": 4
    }
   ],
   "metadata": {}
  }
 ]
}