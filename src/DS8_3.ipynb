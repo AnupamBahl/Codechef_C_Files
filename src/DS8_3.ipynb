{
 "metadata": {
  "name": "",
  "signature": "sha256:47a38bad1e38a890bafb411153fd0c5840ea807e6ad4ad87fbda4e5691ed43fe"
 },
 "nbformat": 3,
 "nbformat_minor": 0,
 "worksheets": [
  {
   "cells": [
    {
     "cell_type": "code",
     "collapsed": false,
     "input": [
      "import pylab\n",
      "import pandas as pd\n",
      "import numpy as np\n",
      "\n",
      "data = pd.read_table(\"cleaning_test_06_09.tsv\",\n",
      "                     na_values=['-'], error_bad_lines=False)"
     ],
     "language": "python",
     "metadata": {},
     "outputs": [],
     "prompt_number": 1
    },
    {
     "cell_type": "code",
     "collapsed": false,
     "input": [
      "speeddata = data[data['speed'] > 0]\n",
      "groupedSpeedData = speeddata.groupby('speed').size().div(len(speeddata))"
     ],
     "language": "python",
     "metadata": {},
     "outputs": [],
     "prompt_number": 2
    },
    {
     "cell_type": "code",
     "collapsed": false,
     "input": [
      "import matplotlib.pyplot as plt\n",
      "%matplotlib inline\n",
      "ax = groupedSpeedData.plot(kind='bar', xticks=[0,50,100,150])\n",
      "ax.set_xticklabels([0,50,100,150])"
     ],
     "language": "python",
     "metadata": {},
     "outputs": [
      {
       "metadata": {},
       "output_type": "pyout",
       "prompt_number": 3,
       "text": [
        "[<matplotlib.text.Text at 0x7f0e6f08dbd0>,\n",
        " <matplotlib.text.Text at 0x7f0e6f08da90>,\n",
        " <matplotlib.text.Text at 0x7f0e6ecd8110>,\n",
        " <matplotlib.text.Text at 0x7f0e6ecd8850>]"
       ]
      },
      {
       "metadata": {},
       "output_type": "display_data",
       "png": "[encoded data removed]",
       "text": [
        "<matplotlib.figure.Figure at 0x7f0e46a860d0>"
       ]
      }
     ],
     "prompt_number": 3
    },
    {
     "cell_type": "code",
     "collapsed": false,
     "input": [
      "groupedFlowData = data.groupby('flow').size().div(len(data))"
     ],
     "language": "python",
     "metadata": {},
     "outputs": [],
     "prompt_number": 4
    },
    {
     "cell_type": "code",
     "collapsed": false,
     "input": [
      "import matplotlib.pyplot as plt\n",
      "%matplotlib inline\n",
      "ax = groupedFlowData.plot(kind='bar', xticks=[0,50,100,150,200,250,300])\n",
      "ax.set_xticklabels([0,50,100,150,200,250,300])"
     ],
     "language": "python",
     "metadata": {},
     "outputs": [
      {
       "metadata": {},
       "output_type": "pyout",
       "prompt_number": 5,
       "text": [
        "[<matplotlib.text.Text at 0x7f0e6ebfa7d0>,\n",
        " <matplotlib.text.Text at 0x7f0e6ec87750>,\n",
        " <matplotlib.text.Text at 0x7f0e6dcf0e90>,\n",
        " <matplotlib.text.Text at 0x7f0e6dcfa610>,\n",
        " <matplotlib.text.Text at 0x7f0e6dcfad50>,\n",
        " <matplotlib.text.Text at 0x7f0e6dd034d0>,\n",
        " <matplotlib.text.Text at 0x7f0e6dd03c10>]"
       ]
      },
      {
       "metadata": {},
       "output_type": "display_data",
       "png": "[encoded data removed]",
       "text": [
        "<matplotlib.figure.Figure at 0x7f0e6ebae1d0>"
       ]
      }
     ],
     "prompt_number": 5
    },
    {
     "cell_type": "code",
     "collapsed": false,
     "input": [
      "groupedOccupancyData = data.groupby('occupancy').size().div(len(data))"
     ],
     "language": "python",
     "metadata": {},
     "outputs": [],
     "prompt_number": 6
    },
    {
     "cell_type": "code",
     "collapsed": false,
     "input": [
      "import matplotlib.pyplot as plt\n",
      "%matplotlib inline\n",
      "ax = groupedOccupancyData.plot(kind='bar', xticks=[-25,0,25,50])\n",
      "ax.set_xticklabels([-25,0,25,50])"
     ],
     "language": "python",
     "metadata": {},
     "outputs": [
      {
       "metadata": {},
       "output_type": "pyout",
       "prompt_number": 7,
       "text": [
        "[<matplotlib.text.Text at 0x7f0e6e048a10>,\n",
        " <matplotlib.text.Text at 0x7f0e6e022c10>,\n",
        " <matplotlib.text.Text at 0x7f0e6d7ce250>,\n",
        " <matplotlib.text.Text at 0x7f0e6d7ce990>]"
       ]
      },
      {
       "metadata": {},
       "output_type": "display_data",
       "png": "[encoded data removed]",
       "text": [
        "<matplotlib.figure.Figure at 0x7f0e6eaf4c50>"
       ]
      }
     ],
     "prompt_number": 7
    }
   ],
   "metadata": {}
  }
 ]
}